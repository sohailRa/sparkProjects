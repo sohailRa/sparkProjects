{
 "cells": [
  {
   "cell_type": "code",
   "execution_count": 130,
   "metadata": {},
   "outputs": [],
   "source": [
    "from IPython.core.interactiveshell import InteractiveShell\n",
    "InteractiveShell.ast_node_interactivity = \"all\"\n",
    "# import findspark\n",
    "# findspark.init()\n",
    "if sc: sc.stop()\n",
    "from pyspark.sql import SparkSession\n",
    "from pyspark import SparkContext\n",
    "from pyspark.sql.types import StructType, StructField, ArrayType, StringType\n",
    "\n",
    "sc = SparkContext()\n",
    "spark = SparkSession(sc)"
   ]
  },
  {
   "cell_type": "code",
   "execution_count": 142,
   "metadata": {},
   "outputs": [],
   "source": [
    "schema = StructType([StructField('temps',ArrayType(StructType( \\\n",
    "              [StructField('current',ArrayType(StructType \\\n",
    "                  ([StructField('temp',StringType(),True)]),True),True), \\\n",
    "               StructField('hist',ArrayType(StructType \\\n",
    "                  ([StructField('temp',StringType(),True)]),True), \\\n",
    "         True)]),True),True),\n",
    "         StructField('uuid',StringType(),True)])"
   ]
  },
  {
   "cell_type": "code",
   "execution_count": 315,
   "metadata": {},
   "outputs": [
    {
     "data": {
      "text/plain": [
       "[Row(temps=[Row(current=[Row(temp=None)], hist=[Row(temp='100')])], uuid='101')]"
      ]
     },
     "execution_count": 315,
     "metadata": {},
     "output_type": "execute_result"
    },
    {
     "data": {
      "text/plain": [
       "[Row(temps=[Row(current=[Row(temp='101')], hist=[Row(temp=None)])], uuid='101')]"
      ]
     },
     "execution_count": 315,
     "metadata": {},
     "output_type": "execute_result"
    }
   ],
   "source": [
    "A = [Row(uuid='101', temps=[Row(current=[Row(temp=None)], hist=[Row(temp='100')])])]\n",
    "B = [Row(uuid='101', temps=[Row(current=[Row(temp='101')], hist=[Row(temp=None)])])]\n",
    "\n",
    "dfA = sc.parallelize(A).toDF(schema)\n",
    "dfA.registerTempTable('dfA')\n",
    "dfB = sc.parallelize(B).toDF(schema)\n",
    "dfB.registerTempTable('dfB')\n",
    "dfA.collect()\n",
    "dfB.collect()"
   ]
  },
  {
   "cell_type": "code",
   "execution_count": 267,
   "metadata": {},
   "outputs": [
    {
     "name": "stdout",
     "output_type": "stream",
     "text": [
      "+-------+----+\n",
      "|current|hist|\n",
      "+-------+----+\n",
      "|[[101]]|[[]]|\n",
      "+-------+----+\n",
      "\n"
     ]
    }
   ],
   "source": [
    "# dfA.printSchema()\n",
    "\n",
    "dfC = dfA \\\n",
    "    .select(F.explode('temps').alias('tmp')) \\\n",
    "    .select('tmp.*') \\\n",
    "    .show()"
   ]
  },
  {
   "cell_type": "code",
   "execution_count": 330,
   "metadata": {},
   "outputs": [
    {
     "ename": "SyntaxError",
     "evalue": "EOL while scanning string literal (<ipython-input-330-0ded89f0e0d5>, line 3)",
     "output_type": "error",
     "traceback": [
      "\u001b[0;36m  File \u001b[0;32m\"<ipython-input-330-0ded89f0e0d5>\"\u001b[0;36m, line \u001b[0;32m3\u001b[0m\n\u001b[0;31m    col(\"temps.current\").alias(\"current),\u001b[0m\n\u001b[0m                                         ^\u001b[0m\n\u001b[0;31mSyntaxError\u001b[0m\u001b[0;31m:\u001b[0m EOL while scanning string literal\n"
     ]
    }
   ],
   "source": [
    "dataFrame.withColumn(\"temps\", \n",
    "    struct(\n",
    "        col(\"temps.current\").alias(\"current),\n",
    "        struct(\n",
    "            col(\"temps.current\").alias(\"current\"),\n",
    "            lit(\"9999999\").alias(\"new\")).alias(\"temps\")))\n",
    "\n",
    "\n",
    "\n"
   ]
  },
  {
   "cell_type": "code",
   "execution_count": null,
   "metadata": {},
   "outputs": [],
   "source": []
  }
 ],
 "metadata": {
  "kernelspec": {
   "display_name": "Python 3",
   "language": "python",
   "name": "python3"
  },
  "language_info": {
   "codemirror_mode": {
    "name": "ipython",
    "version": 3
   },
   "file_extension": ".py",
   "mimetype": "text/x-python",
   "name": "python",
   "nbconvert_exporter": "python",
   "pygments_lexer": "ipython3",
   "version": "3.6.5"
  }
 },
 "nbformat": 4,
 "nbformat_minor": 2
}
