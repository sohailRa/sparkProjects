{
 "cells": [
  {
   "cell_type": "code",
   "execution_count": 2,
   "metadata": {
    "collapsed": false
   },
   "outputs": [
    {
     "ename": "ModuleNotFoundError",
     "evalue": "No module named 'pyspark'",
     "output_type": "error",
     "traceback": [
      "\u001b[0;31m---------------------------------------------------------------------------\u001b[0m",
      "\u001b[0;31mModuleNotFoundError\u001b[0m                       Traceback (most recent call last)",
      "\u001b[0;32m<ipython-input-2-14d54aee606a>\u001b[0m in \u001b[0;36m<module>\u001b[0;34m()\u001b[0m\n\u001b[1;32m      4\u001b[0m \u001b[0;31m# findspark.init()\u001b[0m\u001b[0;34m\u001b[0m\u001b[0;34m\u001b[0m\u001b[0m\n\u001b[1;32m      5\u001b[0m \u001b[0;31m# if sc: sc.stop()\u001b[0m\u001b[0;34m\u001b[0m\u001b[0;34m\u001b[0m\u001b[0m\n\u001b[0;32m----> 6\u001b[0;31m \u001b[0;32mfrom\u001b[0m \u001b[0mpyspark\u001b[0m\u001b[0;34m.\u001b[0m\u001b[0msql\u001b[0m \u001b[0;32mimport\u001b[0m \u001b[0mSparkSession\u001b[0m\u001b[0;34m,\u001b[0m \u001b[0mRow\u001b[0m\u001b[0;34m\u001b[0m\u001b[0m\n\u001b[0m\u001b[1;32m      7\u001b[0m \u001b[0;32mfrom\u001b[0m \u001b[0mpyspark\u001b[0m \u001b[0;32mimport\u001b[0m \u001b[0mSparkContext\u001b[0m\u001b[0;34m\u001b[0m\u001b[0m\n\u001b[1;32m      8\u001b[0m \u001b[0;32mfrom\u001b[0m \u001b[0mpyspark\u001b[0m\u001b[0;34m.\u001b[0m\u001b[0msql\u001b[0m\u001b[0;34m.\u001b[0m\u001b[0mtypes\u001b[0m \u001b[0;32mimport\u001b[0m \u001b[0mStructType\u001b[0m\u001b[0;34m,\u001b[0m \u001b[0mStructField\u001b[0m\u001b[0;34m,\u001b[0m \u001b[0mArrayType\u001b[0m\u001b[0;34m,\u001b[0m \u001b[0mStringType\u001b[0m\u001b[0;34m\u001b[0m\u001b[0m\n",
      "\u001b[0;31mModuleNotFoundError\u001b[0m: No module named 'pyspark'"
     ]
    }
   ],
   "source": [
    "from IPython.core.interactiveshell import InteractiveShell\n",
    "InteractiveShell.ast_node_interactivity = \"all\"\n",
    "# import findspark\n",
    "# findspark.init()\n",
    "# if sc: sc.stop()\n",
    "from pyspark.sql import SparkSession, Row\n",
    "from pyspark import SparkContext\n",
    "from pyspark.sql.types import StructType, StructField, ArrayType, StringType\n",
    "\n",
    "sc = SparkContext()\n",
    "spark = SparkSession(sc)"
   ]
  },
  {
   "cell_type": "code",
   "execution_count": 10,
   "metadata": {
    "collapsed": true
   },
   "outputs": [],
   "source": [
    "schema = StructType([StructField('temps',ArrayType(StructType( \\\n",
    "              [StructField('current',ArrayType(StructType \\\n",
    "                  ([StructField('temp',StringType(),True)]),True),True), \\\n",
    "               StructField('hist',ArrayType(StructType \\\n",
    "                  ([StructField('temp',StringType(),True)]),True), \\\n",
    "         True)]),True),True),\n",
    "         StructField('uuid',StringType(),True)])"
   ]
  },
  {
   "cell_type": "code",
   "execution_count": 29,
   "metadata": {
    "collapsed": false
   },
   "outputs": [
    {
     "data": {
      "text/plain": [
       "[Row(temps=[Row(current=[Row(temp=None)], hist=[Row(temp='27')])], uuid='100001'),\n",
       " Row(temps=[Row(current=[Row(temp=None)], hist=[Row(temp='33')])], uuid='100002')]"
      ]
     },
     "execution_count": 29,
     "metadata": {},
     "output_type": "execute_result"
    },
    {
     "data": {
      "text/plain": [
       "[Row(temps=[Row(current=[Row(temp='30')], hist=[Row(temp=None)])], uuid='100001'),\n",
       " Row(temps=[Row(current=[Row(temp='25')], hist=[Row(temp=None)])], uuid='100002')]"
      ]
     },
     "execution_count": 29,
     "metadata": {},
     "output_type": "execute_result"
    },
    {
     "name": "stdout",
     "output_type": "stream",
     "text": [
      "+----------------+------+\n",
      "|           temps|  uuid|\n",
      "+----------------+------+\n",
      "|[[[[]], [[27]]]]|100001|\n",
      "|[[[[]], [[33]]]]|100002|\n",
      "+----------------+------+\n",
      "\n",
      "+----------------+------+\n",
      "|           temps|  uuid|\n",
      "+----------------+------+\n",
      "|[[[[30]], [[]]]]|100001|\n",
      "|[[[[25]], [[]]]]|100002|\n",
      "+----------------+------+\n",
      "\n"
     ]
    }
   ],
   "source": [
    "A = [Row(uuid='100001', temps=[Row(current=[Row(temp=None)], hist=[Row(temp='27')])]),\n",
    "     Row(uuid='100002', temps=[Row(current=[Row(temp=None)], hist=[Row(temp='33')])])]\n",
    "B = [Row(uuid='100001', temps=[Row(current=[Row(temp='30')], hist=[Row(temp=None)])]),\n",
    "     Row(uuid='100002', temps=[Row(current=[Row(temp='25')], hist=[Row(temp=None)])])]\n",
    "\n",
    "dfA = sc.parallelize(A).toDF(schema)\n",
    "dfA.registerTempTable('dfA')\n",
    "dfB = sc.parallelize(B).toDF(schema)\n",
    "dfB.registerTempTable('dfB')\n",
    "dfA.collect()\n",
    "dfB.collect()\n",
    "dfA.show()\n",
    "dfB.show()"
   ]
  },
  {
   "cell_type": "code",
   "execution_count": 267,
   "metadata": {
    "collapsed": false
   },
   "outputs": [
    {
     "name": "stdout",
     "output_type": "stream",
     "text": [
      "+-------+----+\n",
      "|current|hist|\n",
      "+-------+----+\n",
      "|[[101]]|[[]]|\n",
      "+-------+----+\n",
      "\n"
     ]
    }
   ],
   "source": [
    "# dfA.printSchema()\n",
    "\n",
    "dfC = dfA \\\n",
    "    .select(F.explode('temps').alias('tmp')) \\\n",
    "    .select('tmp.*') \\\n",
    "    .show()"
   ]
  },
  {
   "cell_type": "code",
   "execution_count": 34,
   "metadata": {
    "collapsed": false
   },
   "outputs": [
    {
     "name": "stdout",
     "output_type": "stream",
     "text": [
      "+----------------+------+\n",
      "|           temps|  uuid|\n",
      "+----------------+------+\n",
      "|[[[[]], [[27]]]]|100001|\n",
      "|[[[[]], [[33]]]]|100002|\n",
      "+----------------+------+\n",
      "\n",
      "+----------------+------+\n",
      "|           temps|  uuid|\n",
      "+----------------+------+\n",
      "|[[[[30]], [[]]]]|100001|\n",
      "|[[[[25]], [[]]]]|100002|\n",
      "+----------------+------+\n",
      "\n"
     ]
    }
   ],
   "source": [
    "# dfD = dfA.join(dfB, 'uuid').show()\n",
    "# dfD.show()\n",
    "\n",
    "dfA.show()\n",
    "dfB.show()\n",
    "\n"
   ]
  },
  {
   "cell_type": "code",
   "execution_count": 30,
   "metadata": {
    "collapsed": false
   },
   "outputs": [
    {
     "data": {
      "text/plain": [
       "[Row(uuid='100002', temps=Row(current=[[Row(temp='25')]], hist=[[Row(temp='33')]])),\n",
       " Row(uuid='100001', temps=Row(current=[[Row(temp='30')]], hist=[[Row(temp='27')]]))]"
      ]
     },
     "execution_count": 30,
     "metadata": {},
     "output_type": "execute_result"
    }
   ],
   "source": [
    "sql = '''\n",
    "SELECT\n",
    "    dfA.uuid,\n",
    "    (dfB.temps.current, dfA.temps.hist) as temps\n",
    "FROM \n",
    "    dfA\n",
    "LEFT OUTER JOIN\n",
    "    dfB\n",
    "ON dfA.uuid = dfB.uuid\n",
    "'''\n",
    "\n",
    "dfC = spark.sql(sql)\n",
    "dfC.collect()"
   ]
  },
  {
   "cell_type": "code",
   "execution_count": null,
   "metadata": {
    "collapsed": true
   },
   "outputs": [],
   "source": []
  }
 ],
 "metadata": {
  "kernelspec": {
   "display_name": "Python 3",
   "language": "python",
   "name": "python3"
  },
  "language_info": {
   "codemirror_mode": {
    "name": "ipython",
    "version": 3
   },
   "file_extension": ".py",
   "mimetype": "text/x-python",
   "name": "python",
   "nbconvert_exporter": "python",
   "pygments_lexer": "ipython3",
   "version": "3.6.1"
  }
 },
 "nbformat": 4,
 "nbformat_minor": 2
}
