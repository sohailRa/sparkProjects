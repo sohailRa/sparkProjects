{
 "cells": [
  {
   "cell_type": "code",
   "execution_count": 19,
   "metadata": {
    "collapsed": false
   },
   "outputs": [],
   "source": [
    "from IPython.core.interactiveshell import InteractiveShell\n",
    "InteractiveShell.ast_node_interactivity = \"all\""
   ]
  },
  {
   "cell_type": "code",
   "execution_count": 35,
   "metadata": {
    "collapsed": false
   },
   "outputs": [
    {
     "name": "stdout",
     "output_type": "stream",
     "text": [
      "['CLOSED', 'PENDING', 'COMPLETE', 'CANCELED', 'PENDING_PAYMENT', 'ON_HOLD', 'PROCESSING', 'PAYMENT_REVIEW', 'SUSPECTED_FRAUD']\n"
     ]
    }
   ],
   "source": [
    "\n",
    "# Task 1: Get all order statuses from orders data (loop through list, get order status and add it to the set)\n",
    "def readData(path):\n",
    "    file = open(path)\n",
    "    data_file = file.read()\n",
    "    data = data_file.splitlines()\n",
    "    return data\n",
    "ordersPath = \"/data/retail_db/orders/part-00000\"\n",
    "orders = readData(ordersPath)\n",
    "#set can be initialized by saying set([]) or set({})\n",
    "\n",
    "orderStatuses = set([])\n",
    "for order in orders:\n",
    "  orderStatuses.add(order.split(\",\")[3])\n",
    "\n",
    "# for i in orderStatuses:  print(i)\n",
    "print(list(map(lambda x: x, orderStatuses)))"
   ]
  },
  {
   "cell_type": "code",
   "execution_count": 36,
   "metadata": {
    "collapsed": false
   },
   "outputs": [
    {
     "data": {
      "text/plain": [
       "['1,2013-07-25 00:00:00.0,11599,CLOSED',\n",
       " '2,2013-07-25 00:00:00.0,256,PENDING_PAYMENT',\n",
       " '3,2013-07-25 00:00:00.0,12111,COMPLETE',\n",
       " '4,2013-07-25 00:00:00.0,8827,CLOSED',\n",
       " '5,2013-07-25 00:00:00.0,11318,COMPLETE',\n",
       " '6,2013-07-25 00:00:00.0,7130,COMPLETE',\n",
       " '7,2013-07-25 00:00:00.0,4530,COMPLETE',\n",
       " '8,2013-07-25 00:00:00.0,2911,PROCESSING',\n",
       " '9,2013-07-25 00:00:00.0,5657,PENDING_PAYMENT',\n",
       " '10,2013-07-25 00:00:00.0,5648,PENDING_PAYMENT']"
      ]
     },
     "execution_count": 36,
     "metadata": {},
     "output_type": "execute_result"
    },
    {
     "name": "stdout",
     "output_type": "stream",
     "text": [
      "5648\n"
     ]
    }
   ],
   "source": [
    "# Task 2: Create a function to get revenue for a given order_id (from order_items)\n",
    "orders[:10]\n",
    "\n",
    "def getRevenue(id, orders):\n",
    "    for order in orders:\n",
    "        lst = order.split(',')\n",
    "        if int(lst[0]) == id:\n",
    "            return lst[2]\n",
    "        \n",
    "print(getRevenue(10, orders))"
   ]
  },
  {
   "cell_type": "code",
   "execution_count": 85,
   "metadata": {
    "collapsed": false
   },
   "outputs": [
    {
     "data": {
      "text/plain": [
       "['1,1,957,1,299.98,299.98',\n",
       " '2,2,1073,1,199.99,199.99',\n",
       " '3,2,502,5,250.0,50.0',\n",
       " '4,2,403,1,129.99,129.99',\n",
       " '5,4,897,2,49.98,24.99',\n",
       " '6,4,365,5,299.95,59.99',\n",
       " '7,4,502,3,150.0,50.0',\n",
       " '8,4,1014,4,199.92,49.98',\n",
       " '9,5,957,1,299.98,299.98',\n",
       " '10,5,365,5,299.95,59.99']"
      ]
     },
     "execution_count": 85,
     "metadata": {},
     "output_type": "execute_result"
    }
   ],
   "source": [
    "# Task 3: Create a function to get revenue for each order_id (from order_items)\n",
    "\n",
    "ordersPath = \"/data/retail_db/order_items/part-00000\"\n",
    "order_items = readData(ordersPath)\n",
    "order_items[:10]\n",
    "def getAllRevenue(orders):\n",
    "    rev={}\n",
    "    for order in orders:\n",
    "        lst = order.split(\",\")\n",
    "        if(rev.get(lst[1])): rev.update({lst[1]: float(rev[lst[1]])+float(lst[4])})\n",
    "        else: rev.update({lst[1]:lst[4]})\n",
    "    return rev\n",
    "\n",
    "# getAllRevenue(order_items)"
   ]
  },
  {
   "cell_type": "code",
   "execution_count": 86,
   "metadata": {
    "collapsed": false
   },
   "outputs": [
    {
     "ename": "SyntaxError",
     "evalue": "unexpected EOF while parsing (<ipython-input-86-d578da8fdb4f>, line 23)",
     "output_type": "error",
     "traceback": [
      "\u001b[0;36m  File \u001b[0;32m\"<ipython-input-86-d578da8fdb4f>\"\u001b[0;36m, line \u001b[0;32m23\u001b[0m\n\u001b[0;31m    '13': '127.96',\u001b[0m\n\u001b[0m                   ^\u001b[0m\n\u001b[0;31mSyntaxError\u001b[0m\u001b[0;31m:\u001b[0m unexpected EOF while parsing\n"
     ]
    }
   ],
   "source": [
    "def getRevenuePerOrder(orderItems):\n",
    "    revenuePerOrder = {}\n",
    "    for orderItem in orderItems:\n",
    "        orderIdAndRevenue = (int(orderItem.split(\",\")[1]), float(orderItem.split(\",\")[4]))\n",
    "        if(revenuePerOrder.get(orderIdAndRevenue[0])):\n",
    "      revenuePerOrder[orderIdAndRevenue[0]] += orderIdAndRevenue[1]\n",
    "    else:\n",
    "      revenuePerOrder[orderIdAndRevenue[0]] = orderIdAndRevenue[1]\n",
    "    return revenuePerOrder\n",
    "\n",
    "getRevenuePerOrder(order_items)\n",
    "\n",
    "{'1': '299.98',\n",
    " '2': 579.98,\n",
    " '4': 699.85,\n",
    " '5': 1129.8600000000001,\n",
    " '7': 579.9200000000001,\n",
    " '8': 729.8399999999999,\n",
    " '9': 599.96,\n",
    " '10': 651.9200000000001,\n",
    " '11': 919.79,\n",
    " '12': 1299.8700000000001,\n",
    " '13': '127.96',"
   ]
  },
  {
   "cell_type": "code",
   "execution_count": 61,
   "metadata": {
    "collapsed": false
   },
   "outputs": [
    {
     "ename": "ValueError",
     "evalue": "invalid literal for int() with base 10: '2013-07-25 00:00:00.0'",
     "output_type": "error",
     "traceback": [
      "\u001b[0;31m---------------------------------------------------------------------------\u001b[0m",
      "\u001b[0;31mValueError\u001b[0m                                Traceback (most recent call last)",
      "\u001b[0;32m<ipython-input-61-a3816945e8cd>\u001b[0m in \u001b[0;36m<module>\u001b[0;34m()\u001b[0m\n\u001b[1;32m     28\u001b[0m \u001b[0mordersFiltered\u001b[0m \u001b[0;34m=\u001b[0m \u001b[0mgetCompletedOrders\u001b[0m\u001b[0;34m(\u001b[0m\u001b[0morders\u001b[0m\u001b[0;34m)\u001b[0m\u001b[0;34m\u001b[0m\u001b[0m\n\u001b[1;32m     29\u001b[0m \u001b[0morderIdAndDateDict\u001b[0m \u001b[0;34m=\u001b[0m \u001b[0mgetOrderIdAndDateDict\u001b[0m\u001b[0;34m(\u001b[0m\u001b[0mordersFiltered\u001b[0m\u001b[0;34m)\u001b[0m\u001b[0;34m\u001b[0m\u001b[0m\n\u001b[0;32m---> 30\u001b[0;31m \u001b[0mdailyRevenue\u001b[0m \u001b[0;34m=\u001b[0m \u001b[0mgetDailyRevenue\u001b[0m\u001b[0;34m(\u001b[0m\u001b[0morderIdAndDateDict\u001b[0m\u001b[0;34m,\u001b[0m \u001b[0morders\u001b[0m\u001b[0;34m)\u001b[0m\u001b[0;34m\u001b[0m\u001b[0m\n\u001b[0m\u001b[1;32m     31\u001b[0m \u001b[0;34m\u001b[0m\u001b[0m\n\u001b[1;32m     32\u001b[0m \u001b[0;32mfor\u001b[0m \u001b[0mk\u001b[0m \u001b[0;32min\u001b[0m \u001b[0mdailyRevenue\u001b[0m\u001b[0;34m:\u001b[0m\u001b[0;34m\u001b[0m\u001b[0m\n",
      "\u001b[0;32m<ipython-input-61-a3816945e8cd>\u001b[0m in \u001b[0;36mgetDailyRevenue\u001b[0;34m(orderIdAndDateDict, orderItems)\u001b[0m\n\u001b[1;32m     16\u001b[0m     \u001b[0mdailyRevenue\u001b[0m \u001b[0;34m=\u001b[0m \u001b[0;34m{\u001b[0m\u001b[0;34m}\u001b[0m\u001b[0;34m\u001b[0m\u001b[0m\n\u001b[1;32m     17\u001b[0m     \u001b[0;32mfor\u001b[0m \u001b[0morderItem\u001b[0m \u001b[0;32min\u001b[0m \u001b[0morderItems\u001b[0m\u001b[0;34m:\u001b[0m\u001b[0;34m\u001b[0m\u001b[0m\n\u001b[0;32m---> 18\u001b[0;31m         \u001b[0morderIdAndRevenue\u001b[0m \u001b[0;34m=\u001b[0m \u001b[0;34m(\u001b[0m\u001b[0mint\u001b[0m\u001b[0;34m(\u001b[0m\u001b[0morderItem\u001b[0m\u001b[0;34m.\u001b[0m\u001b[0msplit\u001b[0m\u001b[0;34m(\u001b[0m\u001b[0;34m\",\"\u001b[0m\u001b[0;34m)\u001b[0m\u001b[0;34m[\u001b[0m\u001b[0;36m1\u001b[0m\u001b[0;34m]\u001b[0m\u001b[0;34m)\u001b[0m\u001b[0;34m,\u001b[0m \u001b[0mfloat\u001b[0m\u001b[0;34m(\u001b[0m\u001b[0morderItem\u001b[0m\u001b[0;34m.\u001b[0m\u001b[0msplit\u001b[0m\u001b[0;34m(\u001b[0m\u001b[0;34m\",\"\u001b[0m\u001b[0;34m)\u001b[0m\u001b[0;34m[\u001b[0m\u001b[0;36m4\u001b[0m\u001b[0;34m]\u001b[0m\u001b[0;34m)\u001b[0m\u001b[0;34m)\u001b[0m\u001b[0;34m\u001b[0m\u001b[0m\n\u001b[0m\u001b[1;32m     19\u001b[0m         \u001b[0;32mif\u001b[0m\u001b[0;34m(\u001b[0m\u001b[0morderIdAndDateDict\u001b[0m\u001b[0;34m.\u001b[0m\u001b[0mget\u001b[0m\u001b[0;34m(\u001b[0m\u001b[0morderIdAndRevenue\u001b[0m\u001b[0;34m[\u001b[0m\u001b[0;36m0\u001b[0m\u001b[0;34m]\u001b[0m\u001b[0;34m)\u001b[0m\u001b[0;34m)\u001b[0m\u001b[0;34m:\u001b[0m\u001b[0;34m\u001b[0m\u001b[0m\n\u001b[1;32m     20\u001b[0m             \u001b[0;32mif\u001b[0m\u001b[0;34m(\u001b[0m\u001b[0mdailyRevenue\u001b[0m\u001b[0;34m.\u001b[0m\u001b[0mget\u001b[0m\u001b[0;34m(\u001b[0m\u001b[0morderIdAndDateDict\u001b[0m\u001b[0;34m[\u001b[0m\u001b[0morderIdAndRevenue\u001b[0m\u001b[0;34m[\u001b[0m\u001b[0;36m0\u001b[0m\u001b[0;34m]\u001b[0m\u001b[0;34m]\u001b[0m\u001b[0;34m)\u001b[0m\u001b[0;34m)\u001b[0m\u001b[0;34m:\u001b[0m\u001b[0;34m\u001b[0m\u001b[0m\n",
      "\u001b[0;31mValueError\u001b[0m: invalid literal for int() with base 10: '2013-07-25 00:00:00.0'"
     ]
    }
   ],
   "source": [
    "def getCompletedOrders(orders):\n",
    "    ordersFiltered = []\n",
    "    for order in orders:\n",
    "        if(order.split(',')[3] in ('COMPLETE', 'CLOSED')):\n",
    "            ordersFiltered.append(order)\n",
    "    return ordersFiltered\n",
    "                        \n",
    "\n",
    "def getOrderIdAndDateDict(orders):\n",
    "    orderIdAndDateDict = {}\n",
    "    for order in orders:\n",
    "        orderIdAndDateDict[int(order.split(\",\")[0])] = order.split(\",\")[1]\n",
    "    return orderIdAndDateDict\n",
    "\n",
    "def getDailyRevenue(orderIdAndDateDict, orderItems):\n",
    "    dailyRevenue = {}\n",
    "    for orderItem in orderItems:\n",
    "        orderIdAndRevenue = (int(orderItem.split(\",\")[1]), float(orderItem.split(\",\")[4]))\n",
    "        if(orderIdAndDateDict.get(orderIdAndRevenue[0])):\n",
    "            if(dailyRevenue.get(orderIdAndDateDict[orderIdAndRevenue[0]])):\n",
    "                dailyRevenue[orderIdAndDateDict[orderIdAndRevenue[0]]] += orderIdAndRevenue[1]\n",
    "            else:\n",
    "                dailyRevenue[orderIdAndDateDict[orderIdAndRevenue[0]]] = orderIdAndRevenue[1]\n",
    "    return dailyRevenue\n",
    "\n",
    "\n",
    "\n",
    "ordersFiltered = getCompletedOrders(orders)\n",
    "orderIdAndDateDict = getOrderIdAndDateDict(ordersFiltered)\n",
    "dailyRevenue = getDailyRevenue(orderIdAndDateDict, orders)\n",
    "\n",
    "for k in dailyRevenue:\n",
    "    print((k, dailyRevenue[k]))"
   ]
  }
 ],
 "metadata": {
  "kernelspec": {
   "display_name": "Python 3",
   "language": "python",
   "name": "python3"
  },
  "language_info": {
   "codemirror_mode": {
    "name": "ipython",
    "version": 3
   },
   "file_extension": ".py",
   "mimetype": "text/x-python",
   "name": "python",
   "nbconvert_exporter": "python",
   "pygments_lexer": "ipython3",
   "version": "3.6.1"
  }
 },
 "nbformat": 4,
 "nbformat_minor": 0
}
