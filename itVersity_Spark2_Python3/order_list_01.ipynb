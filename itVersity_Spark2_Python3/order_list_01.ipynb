{
 "cells": [
  {
   "cell_type": "code",
   "execution_count": 19,
   "metadata": {
    "collapsed": false
   },
   "outputs": [],
   "source": [
    "from IPython.core.interactiveshell import InteractiveShell\n",
    "InteractiveShell.ast_node_interactivity = \"all\""
   ]
  },
  {
   "cell_type": "code",
   "execution_count": 20,
   "metadata": {
    "collapsed": false
   },
   "outputs": [
    {
     "name": "stdout",
     "output_type": "stream",
     "text": [
      "['CLOSED', 'PENDING', 'COMPLETE', 'CANCELED', 'PENDING_PAYMENT', 'ON_HOLD', 'PROCESSING', 'PAYMENT_REVIEW', 'SUSPECTED_FRAUD']\n"
     ]
    }
   ],
   "source": [
    "\n",
    "# Task 1: Get all order statuses from orders data (loop through list, get order status and add it to the set)\n",
    "def readData(path):\n",
    "    file = open(path)\n",
    "    data_file = file.read()\n",
    "    data = data_file.splitlines()\n",
    "    return data\n",
    "ordersPath = \"/data/retail_db/orders/part-00000\"\n",
    "orders = readData(ordersPath)\n",
    "#set can be initialized by saying set([]) or set({})\n",
    "\n",
    "orderStatuses = set([])\n",
    "for order in orders:\n",
    "  orderStatuses.add(order.split(\",\")[3])\n",
    "\n",
    "# for i in orderStatuses:  print(i)\n",
    "print(list(map(lambda x: x, orderStatuses)))"
   ]
  },
  {
   "cell_type": "code",
   "execution_count": 27,
   "metadata": {
    "collapsed": false
   },
   "outputs": [
    {
     "data": {
      "text/plain": [
       "['1,2013-07-25 00:00:00.0,11599,CLOSED',\n",
       " '2,2013-07-25 00:00:00.0,256,PENDING_PAYMENT',\n",
       " '3,2013-07-25 00:00:00.0,12111,COMPLETE',\n",
       " '4,2013-07-25 00:00:00.0,8827,CLOSED',\n",
       " '5,2013-07-25 00:00:00.0,11318,COMPLETE',\n",
       " '6,2013-07-25 00:00:00.0,7130,COMPLETE',\n",
       " '7,2013-07-25 00:00:00.0,4530,COMPLETE',\n",
       " '8,2013-07-25 00:00:00.0,2911,PROCESSING',\n",
       " '9,2013-07-25 00:00:00.0,5657,PENDING_PAYMENT',\n",
       " '10,2013-07-25 00:00:00.0,5648,PENDING_PAYMENT']"
      ]
     },
     "execution_count": 27,
     "metadata": {},
     "output_type": "execute_result"
    },
    {
     "name": "stdout",
     "output_type": "stream",
     "text": [
      "11599\n"
     ]
    }
   ],
   "source": [
    "# Task 2: Create a function to get revenue for a given order_id (from order_items)\n",
    "orders[:10]\n",
    "\n",
    "def getRevenue(id, orders):\n",
    "    for order in orders:\n",
    "        lst = order.split(',')\n",
    "        if int(lst[0]) == id:\n",
    "            return lst[2]\n",
    "        \n",
    "print(getRevenue(1, orders))"
   ]
  }
 ],
 "metadata": {
  "kernelspec": {
   "display_name": "Python 3",
   "language": "python",
   "name": "python3"
  },
  "language_info": {
   "codemirror_mode": {
    "name": "ipython",
    "version": 3
   },
   "file_extension": ".py",
   "mimetype": "text/x-python",
   "name": "python",
   "nbconvert_exporter": "python",
   "pygments_lexer": "ipython3",
   "version": "3.6.1"
  }
 },
 "nbformat": 4,
 "nbformat_minor": 0
}
