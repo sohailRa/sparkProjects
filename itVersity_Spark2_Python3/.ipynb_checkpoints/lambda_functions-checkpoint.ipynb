{
 "cells": [
  {
   "cell_type": "code",
   "execution_count": 5,
   "metadata": {
    "collapsed": false
   },
   "outputs": [
    {
     "name": "stdout",
     "output_type": "stream",
     "text": [
      "14.0\n",
      "sum of integers using conventional approach 12\n",
      "sum of squares using conventional approach 50\n",
      "sum of integers using lambda functions 12\n",
      "sum of squares using lambda functions 50\n",
      "sum of cubes using lambda functions 216\n"
     ]
    }
   ],
   "source": [
    "from IPython.core.interactiveshell import InteractiveShell\n",
    "InteractiveShell.ast_node_interactivity = \"all\"\n",
    "\n",
    "# Correct way of getting sumOfIntegers\n",
    "def sumOfIntegers(lb, ub):\n",
    "    l = lb - 1\n",
    "    return ((ub * (ub + 1)) / 2) - ((l * (l + 1)) / 2)\n",
    "\n",
    "print(sumOfIntegers(2, 5))\n",
    "\n",
    "# To demonstrate lambda functions we will loop through the range\n",
    "# Conventional approach, we need to write different functions for\n",
    "# sum of range of numbers\n",
    "# sum of squares in range of numbers\n",
    "# and more\n",
    "def sum(lb, ub):\n",
    "    total = 0\n",
    "    for i in range(lb, ub + 1):\n",
    "        total += i\n",
    "    return total\n",
    "print(\"sum of integers using conventional approach \" + str(sum(3, 5)))\n",
    "\n",
    "def sumOfSquares(lb, ub):\n",
    "    total = 0\n",
    "    for i in range(lb, ub + 1):\n",
    "        total += (i * i)\n",
    "    return total\n",
    "print(\"sum of squares using conventional approach \" + str(sumOfSquares(3, 5)))\n",
    "\n",
    "# With lambda functions, we can get more concise and readable code\n",
    "def sum(f, lb, ub):\n",
    "    total = 0\n",
    "    for i in range(lb, ub + 1):\n",
    "        total += f(i)\n",
    "    return total\n",
    "print(\"sum of integers using lambda functions \" + str(sum(lambda i: i, 3, 5)))\n",
    "print(\"sum of squares using lambda functions \" + str(sum(lambda i: i * i, 3, 5)))\n",
    "\n",
    "# We can also pass named function as argument\n",
    "def cube(i): return i * i * i\n",
    "print(\"sum of cubes using lambda functions \" + str(sum(lambda i: cube(i), 3, 5)))"
   ]
  },
  {
   "cell_type": "code",
   "execution_count": 6,
   "metadata": {
    "collapsed": false
   },
   "outputs": [
    {
     "data": {
      "text/plain": [
       "9996"
      ]
     },
     "execution_count": 6,
     "metadata": {},
     "output_type": "execute_result"
    },
    {
     "data": {
      "text/plain": [
       "210"
      ]
     },
     "execution_count": 6,
     "metadata": {},
     "output_type": "execute_result"
    }
   ],
   "source": [
    "min = (lambda x, y: x if x < y else y)\n",
    "min(101*99,102*98)  #Output = 9996\n",
    "min(10*21,24*9) #Output = 210"
   ]
  },
  {
   "cell_type": "code",
   "execution_count": 9,
   "metadata": {
    "collapsed": false
   },
   "outputs": [
    {
     "name": "stdout",
     "output_type": "stream",
     "text": [
      "[3, 6, 9, 12, 15]\n"
     ]
    },
    {
     "data": {
      "text/plain": [
       "[18, 14, 14, 14]"
      ]
     },
     "execution_count": 9,
     "metadata": {},
     "output_type": "execute_result"
    },
    {
     "data": {
      "text/plain": [
       "[17, 10, 19, 23]"
      ]
     },
     "execution_count": 9,
     "metadata": {},
     "output_type": "execute_result"
    },
    {
     "data": {
      "text/plain": [
       "[19, 18, 9, 5]"
      ]
     },
     "execution_count": 9,
     "metadata": {},
     "output_type": "execute_result"
    }
   ],
   "source": [
    "#Map\n",
    "#Without lambdas\n",
    "\n",
    "a=[1,2,3,4,5]\n",
    "def foo(a):\n",
    "    return 3*a\n",
    "print(list(map(foo,a)))\n",
    "#Output : [3, 6, 9, 12, 15]\n",
    "\n",
    "#With lambdas\n",
    "\n",
    "a=[1,2,3,4]\n",
    "b=[17,12,11,10]\n",
    "c=[-1,-4,5,9]\n",
    "\n",
    "list(map(lambda x,y : x+y,a,b))                        # Output : [18,14,14,14]\n",
    "list(map(lambda x,y,z : x+y+z ,a,b,c))                 # Output : [17,10,19,23]\n",
    "list(map(lambda x,y,z : x+y-z ,a,b,c))                 # Output : [19,18,9,5] "
   ]
  },
  {
   "cell_type": "code",
   "execution_count": 10,
   "metadata": {
    "collapsed": false
   },
   "outputs": [
    {
     "name": "stdout",
     "output_type": "stream",
     "text": [
      "[-5, -4, -3, -2, -1]\n"
     ]
    }
   ],
   "source": [
    "#Filter\n",
    "number_list = range(-5,5)\n",
    "less_than_zero=list(filter(lambda x : x < 0,number_list))\n",
    "print(less_than_zero)\n",
    "\n",
    "#Output : [-5,-4,-3,-2,-1]"
   ]
  },
  {
   "cell_type": "code",
   "execution_count": 11,
   "metadata": {
    "collapsed": true
   },
   "outputs": [],
   "source": [
    "#reduce\n",
    "from functools import reduce\n",
    "product = reduce((lambda x,y :x*y),[1,2,3,4])\n",
    "\n",
    "#Output : 24"
   ]
  }
 ],
 "metadata": {
  "kernelspec": {
   "display_name": "Python 3",
   "language": "python",
   "name": "python3"
  },
  "language_info": {
   "codemirror_mode": {
    "name": "ipython",
    "version": 3
   },
   "file_extension": ".py",
   "mimetype": "text/x-python",
   "name": "python",
   "nbconvert_exporter": "python",
   "pygments_lexer": "ipython3",
   "version": "3.6.1"
  }
 },
 "nbformat": 4,
 "nbformat_minor": 0
}
